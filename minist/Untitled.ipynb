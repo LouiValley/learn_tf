{
 "cells": [
  {
   "cell_type": "code",
   "execution_count": 1,
   "metadata": {},
   "outputs": [
    {
     "name": "stdout",
     "output_type": "stream",
     "text": [
      "Extracting MNIST_data/train-images-idx3-ubyte.gz\n",
      "Extracting MNIST_data/train-labels-idx1-ubyte.gz\n",
      "Extracting MNIST_data/t10k-images-idx3-ubyte.gz\n",
      "Extracting MNIST_data/t10k-labels-idx1-ubyte.gz\n"
     ]
    }
   ],
   "source": [
    "from tensorflow.examples.tutorials.mnist import input_data\n",
    "import tensorflow as tf\n",
    "mnist = input_data.read_data_sets(\"MNIST_data/\",one_hot=True)\n",
    "sess=tf.InteractiveSession()"
   ]
  },
  {
   "cell_type": "code",
   "execution_count": 2,
   "metadata": {},
   "outputs": [],
   "source": [
    "def weight_variable(shape):\n",
    "    initial =tf.truncated_normal(shape,stddev=0.1)\n",
    "    return tf.Variable(initial)\n",
    "def bias_variable(shape):\n",
    "    initial = tf.constant(0.1,shape=shape)\n",
    "    return tf.Variable(initial)"
   ]
  },
  {
   "cell_type": "code",
   "execution_count": 3,
   "metadata": {},
   "outputs": [],
   "source": [
    "def conv2d(x,W):\n",
    "    return tf.nn.conv2d(x,W,strides=[1,1,1,1],padding='SAME')\n",
    "def max_pool_2x2(x):\n",
    "    return tf.nn.max_pool(x,ksize=[1,2,2,1],strides=[1,2,2,1],padding='SAME')"
   ]
  },
  {
   "cell_type": "code",
   "execution_count": 4,
   "metadata": {
    "collapsed": true
   },
   "outputs": [],
   "source": [
    "x = tf.placeholder(tf.float32,[None,784])\n",
    "y_=tf.placeholder(tf.float32,[None,10])\n",
    "x_image = tf.reshape(x,[-1,28,28,1])\n"
   ]
  },
  {
   "cell_type": "code",
   "execution_count": 5,
   "metadata": {
    "collapsed": true
   },
   "outputs": [],
   "source": [
    "W_conv1 = weight_variable([5,5,1,32])\n",
    "b_conv1=bias_variable([32])\n",
    "h_conv1=tf.nn.relu(conv2d(x_image,W_conv1)+b_conv1)\n",
    "h_pool1=max_pool_2x2(h_conv1)"
   ]
  },
  {
   "cell_type": "code",
   "execution_count": 6,
   "metadata": {
    "collapsed": true
   },
   "outputs": [],
   "source": [
    "W_conv2=weight_variable([5,5,32,64])\n",
    "b_conv2=bias_variable([64])\n",
    "h_conv2=tf.nn.relu(conv2d(h_pool1,W_conv2)+b_conv2)\n",
    "h_pool2=max_pool_2x2(h_conv2)"
   ]
  },
  {
   "cell_type": "code",
   "execution_count": 7,
   "metadata": {
    "collapsed": true
   },
   "outputs": [],
   "source": [
    "W_fc1=weight_variable([7*7*64,1024])\n",
    "b_fc1=bias_variable([1024])\n",
    "h_pool2_flat=tf.reshape(h_pool2,[-1,7*7*64])\n",
    "h_fc1=tf.nn.relu(tf.matmul(h_pool2_flat,W_fc1)+b_fc1)"
   ]
  },
  {
   "cell_type": "code",
   "execution_count": 8,
   "metadata": {
    "collapsed": true
   },
   "outputs": [],
   "source": [
    "keep_prob=tf.placeholder(tf.float32)\n",
    "h_fc1_drop=tf.nn.dropout(h_fc1,keep_prob)"
   ]
  },
  {
   "cell_type": "code",
   "execution_count": 9,
   "metadata": {},
   "outputs": [
    {
     "name": "stdout",
     "output_type": "stream",
     "text": [
      "Tensor(\"Softmax:0\", shape=(?, 10), dtype=float32)\n"
     ]
    }
   ],
   "source": [
    "#softmax\n",
    "W_fc2=weight_variable([1024,10])\n",
    "b_fc2=bias_variable([10])\n",
    "y_conv=tf.nn.softmax(tf.matmul(h_fc1_drop,W_fc2)+b_fc2)\n",
    "print(y_conv)"
   ]
  },
  {
   "cell_type": "code",
   "execution_count": 10,
   "metadata": {
    "collapsed": true
   },
   "outputs": [],
   "source": [
    "cross_entropy=tf.reduce_mean(-tf.reduce_sum(y_ * tf.log(y_conv),\n",
    "                                            reduction_indices=[1]))\n",
    "train_step=tf.train.AdamOptimizer(1e-4).minimize(cross_entropy)\n"
   ]
  },
  {
   "cell_type": "code",
   "execution_count": 11,
   "metadata": {},
   "outputs": [
    {
     "name": "stdout",
     "output_type": "stream",
     "text": [
      "Tensor(\"Equal:0\", shape=(?,), dtype=bool)\n"
     ]
    }
   ],
   "source": [
    "correct_prediction=tf.equal(tf.argmax(y_conv,1),tf.argmax(y_,1))\n",
    "print(correct_prediction)\n",
    "accuracy=tf.reduce_mean(tf.cast(correct_prediction,tf.float32))"
   ]
  },
  {
   "cell_type": "code",
   "execution_count": 12,
   "metadata": {},
   "outputs": [
    {
     "name": "stdout",
     "output_type": "stream",
     "text": [
      "setp 0,train_accuracy 0.12\n",
      "setp 100,train_accuracy 0.86\n",
      "setp 200,train_accuracy 0.94\n",
      "setp 300,train_accuracy 0.88\n",
      "setp 400,train_accuracy 0.98\n",
      "setp 500,train_accuracy 0.9\n",
      "setp 600,train_accuracy 1\n",
      "setp 700,train_accuracy 1\n",
      "setp 800,train_accuracy 0.94\n",
      "setp 900,train_accuracy 1\n",
      "setp 1000,train_accuracy 0.96\n",
      "setp 1100,train_accuracy 0.96\n",
      "setp 1200,train_accuracy 0.98\n",
      "setp 1300,train_accuracy 0.92\n",
      "setp 1400,train_accuracy 0.98\n",
      "setp 1500,train_accuracy 0.98\n",
      "setp 1600,train_accuracy 0.96\n",
      "setp 1700,train_accuracy 0.98\n",
      "setp 1800,train_accuracy 1\n",
      "setp 1900,train_accuracy 0.96\n",
      "setp 2000,train_accuracy 0.98\n",
      "setp 2100,train_accuracy 0.96\n",
      "setp 2200,train_accuracy 1\n",
      "setp 2300,train_accuracy 0.98\n",
      "setp 2400,train_accuracy 1\n",
      "setp 2500,train_accuracy 0.94\n",
      "setp 2600,train_accuracy 1\n",
      "setp 2700,train_accuracy 0.98\n",
      "setp 2800,train_accuracy 1\n",
      "setp 2900,train_accuracy 0.96\n",
      "setp 3000,train_accuracy 1\n",
      "setp 3100,train_accuracy 0.98\n",
      "setp 3200,train_accuracy 0.96\n",
      "setp 3300,train_accuracy 0.92\n",
      "setp 3400,train_accuracy 0.98\n",
      "setp 3500,train_accuracy 1\n",
      "setp 3600,train_accuracy 0.96\n",
      "setp 3700,train_accuracy 0.98\n",
      "setp 3800,train_accuracy 1\n",
      "setp 3900,train_accuracy 1\n",
      "setp 4000,train_accuracy 1\n",
      "setp 4100,train_accuracy 0.98\n",
      "setp 4200,train_accuracy 1\n",
      "setp 4300,train_accuracy 0.98\n",
      "setp 4400,train_accuracy 1\n",
      "setp 4500,train_accuracy 1\n",
      "setp 4600,train_accuracy 1\n",
      "setp 4700,train_accuracy 1\n",
      "setp 4800,train_accuracy 1\n",
      "setp 4900,train_accuracy 1\n",
      "setp 5000,train_accuracy 1\n",
      "setp 5100,train_accuracy 1\n",
      "setp 5200,train_accuracy 0.98\n",
      "setp 5300,train_accuracy 0.96\n",
      "setp 5400,train_accuracy 0.98\n",
      "setp 5500,train_accuracy 1\n",
      "setp 5600,train_accuracy 1\n",
      "setp 5700,train_accuracy 1\n",
      "setp 5800,train_accuracy 1\n",
      "setp 5900,train_accuracy 1\n",
      "setp 6000,train_accuracy 0.98\n",
      "setp 6100,train_accuracy 1\n",
      "setp 6200,train_accuracy 0.98\n",
      "setp 6300,train_accuracy 0.98\n",
      "setp 6400,train_accuracy 1\n",
      "setp 6500,train_accuracy 1\n",
      "setp 6600,train_accuracy 1\n",
      "setp 6700,train_accuracy 1\n",
      "setp 6800,train_accuracy 1\n",
      "setp 6900,train_accuracy 0.98\n",
      "setp 7000,train_accuracy 1\n",
      "setp 7100,train_accuracy 0.98\n",
      "setp 7200,train_accuracy 1\n",
      "setp 7300,train_accuracy 1\n",
      "setp 7400,train_accuracy 1\n",
      "setp 7500,train_accuracy 1\n",
      "setp 7600,train_accuracy 1\n",
      "setp 7700,train_accuracy 1\n",
      "setp 7800,train_accuracy 1\n",
      "setp 7900,train_accuracy 0.98\n",
      "setp 8000,train_accuracy 1\n",
      "setp 8100,train_accuracy 1\n",
      "setp 8200,train_accuracy 1\n",
      "setp 8300,train_accuracy 0.98\n",
      "setp 8400,train_accuracy 0.98\n",
      "setp 8500,train_accuracy 1\n",
      "setp 8600,train_accuracy 1\n",
      "setp 8700,train_accuracy 1\n",
      "setp 8800,train_accuracy 1\n",
      "setp 8900,train_accuracy 1\n",
      "setp 9000,train_accuracy 1\n",
      "setp 9100,train_accuracy 1\n",
      "setp 9200,train_accuracy 1\n",
      "setp 9300,train_accuracy 0.98\n",
      "setp 9400,train_accuracy 0.98\n",
      "setp 9500,train_accuracy 1\n",
      "setp 9600,train_accuracy 1\n",
      "setp 9700,train_accuracy 0.98\n",
      "setp 9800,train_accuracy 1\n",
      "setp 9900,train_accuracy 1\n",
      "setp 10000,train_accuracy 1\n",
      "setp 10100,train_accuracy 1\n",
      "setp 10200,train_accuracy 1\n",
      "setp 10300,train_accuracy 1\n",
      "setp 10400,train_accuracy 1\n",
      "setp 10500,train_accuracy 1\n",
      "setp 10600,train_accuracy 1\n",
      "setp 10700,train_accuracy 1\n",
      "setp 10800,train_accuracy 1\n",
      "setp 10900,train_accuracy 1\n",
      "setp 11000,train_accuracy 1\n",
      "setp 11100,train_accuracy 1\n",
      "setp 11200,train_accuracy 1\n",
      "setp 11300,train_accuracy 1\n",
      "setp 11400,train_accuracy 1\n",
      "setp 11500,train_accuracy 1\n",
      "setp 11600,train_accuracy 0.98\n",
      "setp 11700,train_accuracy 1\n",
      "setp 11800,train_accuracy 1\n",
      "setp 11900,train_accuracy 1\n",
      "setp 12000,train_accuracy 1\n",
      "setp 12100,train_accuracy 1\n",
      "setp 12200,train_accuracy 1\n",
      "setp 12300,train_accuracy 1\n",
      "setp 12400,train_accuracy 0.96\n",
      "setp 12500,train_accuracy 1\n",
      "setp 12600,train_accuracy 1\n",
      "setp 12700,train_accuracy 0.98\n",
      "setp 12800,train_accuracy 1\n",
      "setp 12900,train_accuracy 1\n",
      "setp 13000,train_accuracy 1\n",
      "setp 13100,train_accuracy 1\n",
      "setp 13200,train_accuracy 1\n",
      "setp 13300,train_accuracy 1\n",
      "setp 13400,train_accuracy 1\n",
      "setp 13500,train_accuracy 0.98\n",
      "setp 13600,train_accuracy 1\n",
      "setp 13700,train_accuracy 1\n",
      "setp 13800,train_accuracy 1\n",
      "setp 13900,train_accuracy 1\n",
      "setp 14000,train_accuracy 1\n",
      "setp 14100,train_accuracy 1\n",
      "setp 14200,train_accuracy 1\n",
      "setp 14300,train_accuracy 0.98\n",
      "setp 14400,train_accuracy 1\n",
      "setp 14500,train_accuracy 0.98\n",
      "setp 14600,train_accuracy 1\n",
      "setp 14700,train_accuracy 1\n",
      "setp 14800,train_accuracy 1\n",
      "setp 14900,train_accuracy 0.98\n",
      "setp 15000,train_accuracy 1\n",
      "setp 15100,train_accuracy 1\n",
      "setp 15200,train_accuracy 1\n",
      "setp 15300,train_accuracy 1\n",
      "setp 15400,train_accuracy 1\n",
      "setp 15500,train_accuracy 1\n",
      "setp 15600,train_accuracy 1\n",
      "setp 15700,train_accuracy 1\n",
      "setp 15800,train_accuracy 1\n",
      "setp 15900,train_accuracy 1\n",
      "setp 16000,train_accuracy 1\n",
      "setp 16100,train_accuracy 1\n",
      "setp 16200,train_accuracy 0.98\n",
      "setp 16300,train_accuracy 1\n",
      "setp 16400,train_accuracy 1\n",
      "setp 16500,train_accuracy 1\n",
      "setp 16600,train_accuracy 1\n",
      "setp 16700,train_accuracy 1\n",
      "setp 16800,train_accuracy 1\n",
      "setp 16900,train_accuracy 1\n",
      "setp 17000,train_accuracy 0.98\n",
      "setp 17100,train_accuracy 0.98\n",
      "setp 17200,train_accuracy 1\n",
      "setp 17300,train_accuracy 1\n",
      "setp 17400,train_accuracy 1\n",
      "setp 17500,train_accuracy 1\n",
      "setp 17600,train_accuracy 1\n",
      "setp 17700,train_accuracy 1\n",
      "setp 17800,train_accuracy 1\n",
      "setp 17900,train_accuracy 1\n",
      "setp 18000,train_accuracy 1\n",
      "setp 18100,train_accuracy 1\n",
      "setp 18200,train_accuracy 1\n",
      "setp 18300,train_accuracy 1\n",
      "setp 18400,train_accuracy 1\n",
      "setp 18500,train_accuracy 1\n",
      "setp 18600,train_accuracy 1\n",
      "setp 18700,train_accuracy 1\n",
      "setp 18800,train_accuracy 1\n",
      "setp 18900,train_accuracy 1\n",
      "setp 19000,train_accuracy 1\n",
      "setp 19100,train_accuracy 1\n",
      "setp 19200,train_accuracy 1\n",
      "setp 19300,train_accuracy 1\n",
      "setp 19400,train_accuracy 1\n",
      "setp 19500,train_accuracy 1\n",
      "setp 19600,train_accuracy 1\n",
      "setp 19700,train_accuracy 1\n",
      "setp 19800,train_accuracy 1\n",
      "setp 19900,train_accuracy 1\n"
     ]
    }
   ],
   "source": [
    "tf.global_variables_initializer().run()\n",
    "for i in range (20000):\n",
    "    batch = mnist.train.next_batch(50)\n",
    "    if i % 100 == 0:\n",
    "        train_accuracy = accuracy.eval(feed_dict={x:batch[0],y_:batch[1],\n",
    "                                                 keep_prob:1.0})\n",
    "        print('setp %d,train_accuracy %g' %(i,train_accuracy) )\n",
    "    train_step.run(feed_dict={x:batch[0],y_:batch[1],keep_prob:0.5})"
   ]
  },
  {
   "cell_type": "code",
   "execution_count": 13,
   "metadata": {},
   "outputs": [
    {
     "ename": "NameError",
     "evalue": "name 'mnisti' is not defined",
     "output_type": "error",
     "traceback": [
      "\u001b[0;31m---------------------------------------------------------------------------\u001b[0m",
      "\u001b[0;31mNameError\u001b[0m                                 Traceback (most recent call last)",
      "\u001b[0;32m<ipython-input-13-97dd9a531475>\u001b[0m in \u001b[0;36m<module>\u001b[0;34m()\u001b[0m\n\u001b[0;32m----> 1\u001b[0;31m \u001b[0;32mprint\u001b[0m\u001b[0;34m(\u001b[0m\u001b[0;34m\"test accuracy %g\"\u001b[0m\u001b[0;34m%\u001b[0m\u001b[0maccuracy\u001b[0m\u001b[0;34m.\u001b[0m\u001b[0meval\u001b[0m\u001b[0;34m(\u001b[0m\u001b[0mfeed_dict\u001b[0m\u001b[0;34m=\u001b[0m\u001b[0;34m{\u001b[0m\u001b[0mx\u001b[0m\u001b[0;34m:\u001b[0m\u001b[0mmnist\u001b[0m\u001b[0;34m.\u001b[0m\u001b[0mtest\u001b[0m\u001b[0;34m.\u001b[0m\u001b[0mimages\u001b[0m\u001b[0;34m,\u001b[0m\u001b[0my_\u001b[0m\u001b[0;34m:\u001b[0m\u001b[0mmnisti\u001b[0m\u001b[0;34m.\u001b[0m\u001b[0mtest\u001b[0m\u001b[0;34m.\u001b[0m\u001b[0mlabels\u001b[0m\u001b[0;34m,\u001b[0m\u001b[0mkeep_prob\u001b[0m\u001b[0;34m:\u001b[0m\u001b[0;36m1.0\u001b[0m\u001b[0;34m}\u001b[0m\u001b[0;34m)\u001b[0m\u001b[0;34m)\u001b[0m\u001b[0;34m\u001b[0m\u001b[0m\n\u001b[0m",
      "\u001b[0;31mNameError\u001b[0m: name 'mnisti' is not defined"
     ]
    }
   ],
   "source": [
    "print(\"test accuracy %g\"%accuracy.eval(feed_dict={x:mnist.test.images,y_:mnisti.test.labels,keep_prob:1.0}))"
   ]
  }
 ],
 "metadata": {
  "kernelspec": {
   "display_name": "Python 2",
   "language": "python",
   "name": "python2"
  },
  "language_info": {
   "codemirror_mode": {
    "name": "ipython",
    "version": 2
   },
   "file_extension": ".py",
   "mimetype": "text/x-python",
   "name": "python",
   "nbconvert_exporter": "python",
   "pygments_lexer": "ipython2",
   "version": "2.7.13"
  }
 },
 "nbformat": 4,
 "nbformat_minor": 2
}
